{
  "cells": [
    {
      "cell_type": "markdown",
      "metadata": {
        "id": "AVBtOVlNJ51C"
      },
      "source": [
        "# Tutorial: Generating Structured Output with Loop-Based Auto-Correction\n",
        "\n",
        "- **Level**: Intermediate\n",
        "- **Time to complete**: 15 minutes\n",
        "- **Prerequisites**: You must have an API key from an active OpenAI account as this tutorial is using the gpt-3.5-turbo model by OpenAI.\n",
        "- **Components Used**: `PromptBuilder`, `GPTGenerator`, `OutputValidator` (Custom component)\n",
        "- **Goal**: After completing this tutorial, you will have built a system that extracts unstructured data, puts it in a JSON schema, and automatically corrects errors in the JSON output from a large language model (LLM) to make sure it follows the specified structure.\n",
        "\n",
        "> This tutorial uses Haystack 2.0 Beta. To learn more, read the [Haystack 2.0 Beta announcement](https://haystack.deepset.ai/blog/introducing-haystack-2-beta-and-advent) or see [Haystack 2.0 Beta Documentation](https://docs.haystack.deepset.ai/v2.0/docs).\n",
        "\n",
        "## Overview\n",
        "This tutorial demonstrates how to use Haystack 2.0-Beta's advanced [looping pipelines](https://docs.haystack.deepset.ai/v2.0/docs/pipelines#loops) with LLMs for more dynamic and flexible data processing. You'll learn how to extract structured data from unstructured data using an LLM, and to validate the generated output against a predefined schema.\n",
        "\n",
        "This tutorial uses `gpt-3.5-turbo` to change unstructured passages into JSON outputs that follow the [Pydantic](https://github.com/pydantic/pydantic) schema. It uses a custom OutputValidator component to validate the JSON and loop back to make corrections, if necessary."
      ]
    },
    {
      "cell_type": "markdown",
      "metadata": {
        "id": "jmiAHh1oGsKI"
      },
      "source": [
        "## Preparing the Colab Environment\n",
        "\n",
        "Enable the debug mode of logging:"
      ]
    },
    {
      "cell_type": "code",
      "execution_count": 1,
      "metadata": {
        "id": "Vor9IHuNRvEh"
      },
      "outputs": [],
      "source": [
        "import logging\n",
        "\n",
        "logging.basicConfig()\n",
        "logging.getLogger(\"canals.pipeline.pipeline\").setLevel(logging.DEBUG)"
      ]
    },
    {
      "cell_type": "markdown",
      "metadata": {
        "id": "ljbWiyJkKiPw"
      },
      "source": [
        "## Installing Dependencies\n",
        "Install Haystack 2.0 Beta and [colorama](https://pypi.org/project/colorama/) with pip:"
      ]
    },
    {
      "cell_type": "code",
      "execution_count": 2,
      "metadata": {
        "colab": {
          "base_uri": "https://localhost:8080/"
        },
        "id": "kcc1AlLQd_jI",
        "outputId": "d5cc2629-7d1d-42ee-8a5d-6d3b2c903e64"
      },
      "outputs": [
        {
          "output_type": "stream",
          "name": "stdout",
          "text": [
            "Collecting haystack-ai\n",
            "  Downloading haystack_ai-2.0.0b3-py3-none-any.whl (189 kB)\n",
            "     ━━━━━━━━━━━━━━━━━━━━━━━━━━━━━━━━━━━━━━━━ 189.7/189.7 kB 2.4 MB/s eta 0:00:00\n",
            "Collecting boilerpy3 (from haystack-ai)\n",
            "  Downloading boilerpy3-1.0.7-py3-none-any.whl (22 kB)\n",
            "Requirement already satisfied: jinja2 in /usr/local/lib/python3.10/dist-packages (from haystack-ai) (3.1.2)\n",
            "Collecting lazy-imports (from haystack-ai)\n",
            "  Downloading lazy_imports-0.3.1-py3-none-any.whl (12 kB)\n",
            "Requirement already satisfied: more-itertools in /usr/local/lib/python3.10/dist-packages (from haystack-ai) (10.1.0)\n",
            "Requirement already satisfied: networkx in /usr/local/lib/python3.10/dist-packages (from haystack-ai) (3.2.1)\n",
            "Collecting openai<1.0.0 (from haystack-ai)\n",
            "  Downloading openai-0.28.1-py3-none-any.whl (76 kB)\n",
            "     ━━━━━━━━━━━━━━━━━━━━━━━━━━━━━━━━━━━━━━━━ 77.0/77.0 kB 6.6 MB/s eta 0:00:00\n",
            "Requirement already satisfied: pandas in /usr/local/lib/python3.10/dist-packages (from haystack-ai) (1.5.3)\n",
            "Collecting posthog (from haystack-ai)\n",
            "  Downloading posthog-3.1.0-py2.py3-none-any.whl (37 kB)\n",
            "Requirement already satisfied: pyyaml in /usr/local/lib/python3.10/dist-packages (from haystack-ai) (6.0.1)\n",
            "Collecting rank-bm25 (from haystack-ai)\n",
            "  Downloading rank_bm25-0.2.2-py3-none-any.whl (8.6 kB)\n",
            "Requirement already satisfied: tenacity in /usr/local/lib/python3.10/dist-packages (from haystack-ai) (8.2.3)\n",
            "Requirement already satisfied: tqdm in /usr/local/lib/python3.10/dist-packages (from haystack-ai) (4.66.1)\n",
            "Requirement already satisfied: typing-extensions in /usr/local/lib/python3.10/dist-packages (from haystack-ai) (4.5.0)\n",
            "Requirement already satisfied: requests>=2.20 in /usr/local/lib/python3.10/dist-packages (from openai<1.0.0->haystack-ai) (2.31.0)\n",
            "Requirement already satisfied: aiohttp in /usr/local/lib/python3.10/dist-packages (from openai<1.0.0->haystack-ai) (3.9.1)\n",
            "Requirement already satisfied: MarkupSafe>=2.0 in /usr/local/lib/python3.10/dist-packages (from jinja2->haystack-ai) (2.1.3)\n",
            "Requirement already satisfied: python-dateutil>=2.8.1 in /usr/local/lib/python3.10/dist-packages (from pandas->haystack-ai) (2.8.2)\n",
            "Requirement already satisfied: pytz>=2020.1 in /usr/local/lib/python3.10/dist-packages (from pandas->haystack-ai) (2023.3.post1)\n",
            "Requirement already satisfied: numpy>=1.21.0 in /usr/local/lib/python3.10/dist-packages (from pandas->haystack-ai) (1.23.5)\n",
            "Requirement already satisfied: six>=1.5 in /usr/local/lib/python3.10/dist-packages (from posthog->haystack-ai) (1.16.0)\n",
            "Collecting monotonic>=1.5 (from posthog->haystack-ai)\n",
            "  Downloading monotonic-1.6-py2.py3-none-any.whl (8.2 kB)\n",
            "Collecting backoff>=1.10.0 (from posthog->haystack-ai)\n",
            "  Downloading backoff-2.2.1-py3-none-any.whl (15 kB)\n",
            "Requirement already satisfied: charset-normalizer<4,>=2 in /usr/local/lib/python3.10/dist-packages (from requests>=2.20->openai<1.0.0->haystack-ai) (3.3.2)\n",
            "Requirement already satisfied: idna<4,>=2.5 in /usr/local/lib/python3.10/dist-packages (from requests>=2.20->openai<1.0.0->haystack-ai) (3.6)\n",
            "Requirement already satisfied: urllib3<3,>=1.21.1 in /usr/local/lib/python3.10/dist-packages (from requests>=2.20->openai<1.0.0->haystack-ai) (2.0.7)\n",
            "Requirement already satisfied: certifi>=2017.4.17 in /usr/local/lib/python3.10/dist-packages (from requests>=2.20->openai<1.0.0->haystack-ai) (2023.11.17)\n",
            "Requirement already satisfied: attrs>=17.3.0 in /usr/local/lib/python3.10/dist-packages (from aiohttp->openai<1.0.0->haystack-ai) (23.1.0)\n",
            "Requirement already satisfied: multidict<7.0,>=4.5 in /usr/local/lib/python3.10/dist-packages (from aiohttp->openai<1.0.0->haystack-ai) (6.0.4)\n",
            "Requirement already satisfied: yarl<2.0,>=1.0 in /usr/local/lib/python3.10/dist-packages (from aiohttp->openai<1.0.0->haystack-ai) (1.9.4)\n",
            "Requirement already satisfied: frozenlist>=1.1.1 in /usr/local/lib/python3.10/dist-packages (from aiohttp->openai<1.0.0->haystack-ai) (1.4.0)\n",
            "Requirement already satisfied: aiosignal>=1.1.2 in /usr/local/lib/python3.10/dist-packages (from aiohttp->openai<1.0.0->haystack-ai) (1.3.1)\n",
            "Requirement already satisfied: async-timeout<5.0,>=4.0 in /usr/local/lib/python3.10/dist-packages (from aiohttp->openai<1.0.0->haystack-ai) (4.0.3)\n",
            "Installing collected packages: monotonic, rank-bm25, lazy-imports, boilerpy3, backoff, posthog, openai, haystack-ai\n",
            "Successfully installed backoff-2.2.1 boilerpy3-1.0.7 haystack-ai-2.0.0b3 lazy-imports-0.3.1 monotonic-1.6 openai-0.28.1 posthog-3.1.0 rank-bm25-0.2.2\n",
            "Collecting colorama\n",
            "  Downloading colorama-0.4.6-py2.py3-none-any.whl (25 kB)\n",
            "Installing collected packages: colorama\n",
            "Successfully installed colorama-0.4.6\n"
          ]
        },
        {
          "output_type": "stream",
          "name": "stderr",
          "text": [
            "ERROR: pip's dependency resolver does not currently take into account all the packages that are installed. This behaviour is the source of the following dependency conflicts.\n",
            "llmx 0.0.15a0 requires cohere, which is not installed.\n",
            "llmx 0.0.15a0 requires tiktoken, which is not installed.\n"
          ]
        }
      ],
      "source": [
        "%%bash\n",
        "\n",
        "pip install haystack-ai\n",
        "pip install colorama"
      ]
    },
    {
      "cell_type": "markdown",
      "metadata": {
        "id": "nTA5fdvCLMKD"
      },
      "source": [
        "### Enabling Telemetry\n",
        "\n",
        "Enable telemetry to let us know you're using this tutorial. (You can always opt out by commenting out this line). For details, see [Telemetry](https://docs.haystack.deepset.ai/docs/telemetry)."
      ]
    },
    {
      "cell_type": "code",
      "execution_count": 3,
      "metadata": {
        "id": "Apay3QSQLKdM"
      },
      "outputs": [],
      "source": [
        "from haystack.telemetry import tutorial_running\n",
        "\n",
        "tutorial_running(28)"
      ]
    },
    {
      "cell_type": "markdown",
      "metadata": {
        "id": "Cmjfa8CiCeFl"
      },
      "source": [
        "## Defining a Schema to Parse the JSON Object\n",
        "\n",
        "Define a simple JSON schema for the data you want to extract from a text passsage using the LLM. As the first step, define two [Pydantic models](https://docs.pydantic.dev/1.10/usage/models/), `City` and `CitiesData`, with suitable fields and types."
      ]
    },
    {
      "cell_type": "code",
      "execution_count": 4,
      "metadata": {
        "id": "xwKrDOOGdaAz"
      },
      "outputs": [],
      "source": [
        "from typing import List\n",
        "from pydantic import BaseModel\n",
        "\n",
        "\n",
        "class City(BaseModel):\n",
        "    name: str\n",
        "    country: str\n",
        "    population: int\n",
        "\n",
        "\n",
        "class CitiesData(BaseModel):\n",
        "    cities: List[City]"
      ]
    },
    {
      "cell_type": "markdown",
      "metadata": {
        "id": "zv-6-l_PCeFl"
      },
      "source": [
        "> You can change these models according to the format you wish to extract from the text."
      ]
    },
    {
      "cell_type": "markdown",
      "metadata": {
        "id": "ouk1mAOUCeFl"
      },
      "source": [
        "Then, generate a JSON schema from Pydantic models using `schema_json()`. You will later on use this schema in the prompt to instruct the LLM.\n",
        "\n",
        "To learn more about the JSON schemas, visit [Pydantic Schema](https://docs.pydantic.dev/1.10/usage/schema/).  "
      ]
    },
    {
      "cell_type": "code",
      "execution_count": 5,
      "metadata": {
        "id": "8Lg9_72jCeFl"
      },
      "outputs": [],
      "source": [
        "json_schema = CitiesData.schema_json(indent=2)"
      ]
    },
    {
      "cell_type": "markdown",
      "metadata": {
        "id": "KvNhg0bP7kfg"
      },
      "source": [
        "## Creating a Custom Component: OutputValidator\n",
        "\n",
        "`OutputValidator` is a custom component that validates if the JSON object the LLM generates complies with the provided [Pydantic model](https://docs.pydantic.dev/1.10/usage/models/). If it doesn't, OutputValidator returns an error message along with the incorrect JSON object to get it fixed in the next loop.\n",
        "\n",
        "For more details about custom components, see [Creating Custom Components](https://docs.haystack.deepset.ai/v2.0/docs/custom-components)."
      ]
    },
    {
      "cell_type": "code",
      "execution_count": 31,
      "metadata": {
        "id": "yr6D8RN2d7Vy"
      },
      "outputs": [],
      "source": [
        "import json\n",
        "import random\n",
        "import pydantic\n",
        "from pydantic import ValidationError\n",
        "from typing import Optional, List\n",
        "from colorama import Fore\n",
        "from haystack import component\n",
        "\n",
        "# Define the component input parameters\n",
        "@component\n",
        "class OutputValidator:\n",
        "    def __init__(self, pydantic_model: pydantic.BaseModel):\n",
        "        self.pydantic_model = pydantic_model\n",
        "        self.iteration_counter = 0\n",
        "\n",
        "    # Define the component output\n",
        "    @component.output_types(valid_replies=List[str], invalid_replies=Optional[List[str]], error_message=Optional[str])\n",
        "    def run(self, replies: List[str]):\n",
        "\n",
        "        self.iteration_counter += 1\n",
        "\n",
        "        ## Try to parse the LLM's reply ##\n",
        "        # If the LLM's reply is a valid object, return `\"valid_replies\"`\n",
        "        try:\n",
        "            output_dict = json.loads(replies[0])\n",
        "            self.pydantic_model.parse_obj(output_dict)\n",
        "            print(\n",
        "                Fore.GREEN\n",
        "                + f\"OutputValidator at Iteration {self.iteration_counter}: Valid JSON from LLM - No need for looping: {replies[0]}\"\n",
        "            )\n",
        "            return {\"valid_replies\": replies}\n",
        "\n",
        "        # If the LLM's reply is corrupted or not valid, return \"invalid_replies\" and the \"error_message\" for LLM to try again\n",
        "        except (ValueError, ValidationError) as e:\n",
        "            print(\n",
        "                Fore.RED\n",
        "                + f\"OutputValidator at Iteration {self.iteration_counter}: Invalid JSON from LLM - Let's try again.\\n\"\n",
        "                f\"Output from LLM:\\n {replies[0]} \\n\"\n",
        "                f\"Error from OutputValidator: {e}\"\n",
        "            )\n",
        "            return {\"invalid_replies\": replies, \"error_message\": str(e)}"
      ]
    },
    {
      "cell_type": "markdown",
      "metadata": {
        "id": "vQ_TfSBkCeFm"
      },
      "source": [
        "Then, create an OutputValidator instance with `CitiesData` that you have created before."
      ]
    },
    {
      "cell_type": "code",
      "execution_count": 24,
      "metadata": {
        "id": "bhPCLCBCCeFm"
      },
      "outputs": [],
      "source": [
        "output_validator = OutputValidator(pydantic_model=CitiesData)"
      ]
    },
    {
      "cell_type": "markdown",
      "metadata": {
        "id": "xcIWKjW4k42r"
      },
      "source": [
        "## Creating the Prompt\n",
        "\n",
        "Write instructions for the LLM for converting a passage into a JSON format. Ensure the instructions explain how to identify and correct errors if the JSON doesn't match the required schema. Once you create the prompt, initialize PromptBuilder to use it.  \n",
        "\n",
        "For information about Jinja2 template and PromptBuilder, see [PromptBuilder](https://docs.haystack.deepset.ai/v2.0/docs/promptbuilder)."
      ]
    },
    {
      "cell_type": "code",
      "execution_count": 25,
      "metadata": {
        "id": "ohPpNALjdVKt"
      },
      "outputs": [],
      "source": [
        "from haystack.components.builders import PromptBuilder\n",
        "\n",
        "prompt_template = \"\"\"\n",
        "Create a JSON object from the information present in this passage: {{passage}}.\n",
        "Only use information that is present in the passage. Follow this JSON schema, but only return the actual instances without any additional schema definition:\n",
        "{{schema}}\n",
        "Make sure your response is a dict and not a list.\n",
        "{% if invalid_replies and error_message %}\n",
        "  You already created the following output in a previous attempt: {{invalid_replies}}\n",
        "  However, this doesn't comply with the format requirements from above and triggered this Python exception: {{error_message}}\n",
        "  Correct the output and try again. Just return the corrected output without any extra explanations.\n",
        "{% endif %}\n",
        "\"\"\"\n",
        "prompt_builder = PromptBuilder(template=prompt_template)"
      ]
    },
    {
      "cell_type": "markdown",
      "metadata": {
        "id": "KM9-Zq2FL7Nn"
      },
      "source": [
        "## Initalizing the Generator\n",
        "\n",
        "[GPTGenerator](https://docs.haystack.deepset.ai/v2.0/docs/gptgenerator) generates\n",
        "text using OpenAI's `gpt-3.5-turbo` model by default. Provide an API key and a model name to the Generator."
      ]
    },
    {
      "cell_type": "code",
      "execution_count": 26,
      "metadata": {
        "id": "Z4cQteIgunUR",
        "outputId": "f3dbd676-1e80-4253-9b37-41c35ee101db",
        "colab": {
          "base_uri": "https://localhost:8080/"
        }
      },
      "outputs": [
        {
          "name": "stdout",
          "output_type": "stream",
          "text": [
            "Enter OpenAI API key:··········\n"
          ]
        }
      ],
      "source": [
        "import os\n",
        "from getpass import getpass\n",
        "\n",
        "from haystack.components.generators import GPTGenerator\n",
        "\n",
        "llm_api_key = os.getenv(\"OPENAI_API_KEY\", None) or getpass(\"Enter OpenAI API key:\")\n",
        "generator = GPTGenerator(api_key=llm_api_key)"
      ]
    },
    {
      "cell_type": "markdown",
      "metadata": {
        "id": "zbotIOgXHkC5"
      },
      "source": [
        "## Building the Pipeline\n",
        "\n",
        "Add all components to your pipeline and connect them. Add connections from `output_validator` back to the `prompt_builder` for cases where the produced JSON doesn't comply with the JSON schema. Set `max_loops_allowed` to avoid infinite looping."
      ]
    },
    {
      "cell_type": "code",
      "execution_count": 32,
      "metadata": {
        "id": "eFglN9YEv-1W"
      },
      "outputs": [],
      "source": [
        "from haystack import Pipeline\n",
        "\n",
        "pipeline = Pipeline(max_loops_allowed=1)\n",
        "\n",
        "# Add components to your pipeline\n",
        "pipeline.add_component(instance=prompt_builder, name=\"prompt_builder\")\n",
        "pipeline.add_component(instance=generator, name=\"llm\")\n",
        "pipeline.add_component(instance=output_validator, name=\"output_validator\")\n",
        "\n",
        "# Now, connect the components to each other\n",
        "pipeline.connect(\"prompt_builder\", \"llm\")\n",
        "pipeline.connect(\"llm\", \"output_validator\")\n",
        "# If a component has more than one output or input, explicitly specify the connections:\n",
        "pipeline.connect(\"output_validator.invalid_replies\", \"prompt_builder.invalid_replies\")\n",
        "pipeline.connect(\"output_validator.error_message\", \"prompt_builder.error_message\")"
      ]
    },
    {
      "cell_type": "markdown",
      "metadata": {
        "id": "-UKW5wtIIT7w"
      },
      "source": [
        "### Visualize the Pipeline\n",
        "\n",
        "Draw the pipeline with the [`draw()`](https://docs.haystack.deepset.ai/v2.0/docs/drawing-pipeline-graphs) method to confirm the connections are correct. You can find the diagram in the Files section of this Colab."
      ]
    },
    {
      "cell_type": "code",
      "execution_count": 33,
      "metadata": {
        "id": "RZJg6YHId300"
      },
      "outputs": [],
      "source": [
        "pipeline.draw(\"auto-correct-pipeline.png\")"
      ]
    },
    {
      "cell_type": "markdown",
      "metadata": {
        "id": "kV_kexTjImpo"
      },
      "source": [
        "## Testing the Pipeline\n",
        "\n",
        "Run the pipeline with an example passage that you want to convert into a JSON format and the `json_schema` you have created for `CitiesData`. For the given example passage, the generated JSON object should be like:\n",
        "```json\n",
        "{\n",
        "  \"cities\": [\n",
        "    {\n",
        "      \"name\": \"Berlin\",\n",
        "      \"country\": \"Germany\",\n",
        "      \"population\": 3850809\n",
        "    },\n",
        "    {\n",
        "      \"name\": \"Paris\",\n",
        "      \"country\": \"France\",\n",
        "      \"population\": 2161000\n",
        "    },\n",
        "    {\n",
        "      \"name\": \"Lisbon\",\n",
        "      \"country\": \"Portugal\",\n",
        "      \"population\": 504718\n",
        "    }\n",
        "  ]\n",
        "}\n",
        "```\n",
        "The output of the LLM should be compliant with the `json_schema`. If the LLM doesn't generate the correct JSON object, it will loop back and try again."
      ]
    },
    {
      "cell_type": "code",
      "execution_count": 34,
      "metadata": {
        "colab": {
          "base_uri": "https://localhost:8080/"
        },
        "id": "yIoMedb6eKia",
        "outputId": "8e0f9d6f-1bd3-40ea-dece-4443a2ba88cd"
      },
      "outputs": [
        {
          "output_type": "stream",
          "name": "stdout",
          "text": [
            "\u001b[32mOutputValidator at Iteration 2: Valid JSON from LLM - No need for looping: {\n",
            "  \"cities\": [\n",
            "    {\n",
            "      \"name\": \"Berlin\",\n",
            "      \"country\": \"Germany\",\n",
            "      \"population\": 3850809\n",
            "    },\n",
            "    {\n",
            "      \"name\": \"Paris\",\n",
            "      \"country\": \"France\",\n",
            "      \"population\": 2161000\n",
            "    },\n",
            "    {\n",
            "      \"name\": \"Lisbon\",\n",
            "      \"country\": \"Portugal\",\n",
            "      \"population\": 504718\n",
            "    }\n",
            "  ]\n",
            "}\n"
          ]
        }
      ],
      "source": [
        "passage = \"Berlin is the capital of Germany. It has a population of 3,850,809. Paris, France's capital, has 2.161 million residents. Lisbon is the capital and the largest city of Portugal with the population of 504,718.\"\n",
        "result = pipeline.run({\"prompt_builder\": {\"passage\": passage, \"schema\": json_schema}})"
      ]
    },
    {
      "cell_type": "markdown",
      "metadata": {
        "id": "WWxmPgADS_Fa"
      },
      "source": [
        "> If you encounter `PipelineMaxLoops: Maximum loops count (5) exceeded for component 'prompt_builder'.` error, consider increasing the maximum loop count or simply rerun the pipeline."
      ]
    },
    {
      "cell_type": "markdown",
      "metadata": {
        "id": "eWPawSjgSJAM"
      },
      "source": [
        "### Print the Correct JSON\n",
        "If you didn't get any error, you can now print the corrected JSON."
      ]
    },
    {
      "cell_type": "code",
      "execution_count": 35,
      "metadata": {
        "colab": {
          "base_uri": "https://localhost:8080/"
        },
        "id": "BVO47gXQQnDC",
        "outputId": "efb79541-804f-4e55-e48b-ca7b0570a108"
      },
      "outputs": [
        {
          "output_type": "stream",
          "name": "stdout",
          "text": [
            "{'cities': [{'name': 'Berlin', 'country': 'Germany', 'population': 3850809}, {'name': 'Paris', 'country': 'France', 'population': 2161000}, {'name': 'Lisbon', 'country': 'Portugal', 'population': 504718}]}\n"
          ]
        }
      ],
      "source": [
        "valid_reply = result[\"output_validator\"][\"valid_replies\"][0]\n",
        "valid_json = json.loads(valid_reply)\n",
        "print(valid_json)"
      ]
    },
    {
      "cell_type": "markdown",
      "metadata": {
        "id": "Egz_4h2vI_QL"
      },
      "source": [
        "🎉 Congratulations! You've built a system that generates structured JSON out of unstructured text passages, and auto-corrects it by using the looping functionality of Haystack pipelines."
      ]
    }
  ],
  "metadata": {
    "accelerator": "GPU",
    "colab": {
      "gpuType": "T4",
      "provenance": []
    },
    "kernelspec": {
      "display_name": "Python 3",
      "name": "python3"
    },
    "language_info": {
      "name": "python"
    }
  },
  "nbformat": 4,
  "nbformat_minor": 0
}